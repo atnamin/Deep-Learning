{
 "cells": [
  {
   "cell_type": "code",
   "execution_count": 1,
   "metadata": {},
   "outputs": [],
   "source": [
    "import pickle\n",
    "import pandas as pd\n",
    "import numpy\n",
    "import numpy as np\n",
    "import seaborn as sns\n",
    "import matplotlib.pyplot as plt\n",
    "from datetime import datetime\n",
    "\n",
    "import glob\n",
    "from tqdm import tqdm\n",
    "\n",
    "from sklearn.ensemble import RandomForestClassifier\n",
    "from sklearn.model_selection import train_test_split\n",
    "from sklearn.metrics import accuracy_score, f1_score\n",
    "from sklearn.metrics import confusion_matrix, classification_report"
   ]
  },
  {
   "cell_type": "code",
   "execution_count": 3,
   "metadata": {},
   "outputs": [],
   "source": [
    "def readFiles():\n",
    "    fileDic = {}\n",
    "    files = [file for file in glob.glob('transformed_data_updated/*.pickle')]\n",
    "    users = set([file.split('/')[-1].split('_')[0] for file in files])\n",
    "    for user in tqdm(users):\n",
    "        fileDic[user] = {}\n",
    "        user_files = [file for file in files if user in file]\n",
    "        X = []\n",
    "        for file in user_files:        \n",
    "            file_x = pickle.load(open(file, 'rb'), encoding = 'latin1')\n",
    "            fileDic[user][file.split('_')[2]] = file_x\n",
    "\n",
    "    return fileDic   "
   ]
  },
  {
   "cell_type": "code",
   "execution_count": 4,
   "metadata": {},
   "outputs": [],
   "source": [
    "def assemble_features(fileDic):\n",
    "    ''' This function separates the features and the label of data.\n",
    "    USAGE: separating the features and the label\n",
    "    ARGS: fileDic = Dictionary represnting the data\n",
    "    OUTPUT: List os features and label'''\n",
    "    X = []\n",
    "    y = []\n",
    "    for k in fileDic.keys():\n",
    "        if y == []:\n",
    "            y = np.array(fileDic[k]['ECG']['y'])\n",
    "        else:\n",
    "            y = np.vstack((y,fileDic[k]['ECG']['y']))\n",
    "        x_patient = []\n",
    "        x_patient = np.array(list(zip(fileDic[k]['Temp']['x']['0'],\n",
    "                                  fileDic[k]['Temp']['x1']['0'],\n",
    "                                  fileDic[k]['Temp']['x2']['0'],\n",
    "                                  fileDic[k]['ECG']['x']['0'],\n",
    "                                  fileDic[k]['ECG']['x1']['0'],\n",
    "                                  fileDic[k]['ECG']['x2']['0'],\n",
    "                                  fileDic[k]['EDA']['x']['0'],\n",
    "                                  fileDic[k]['EDA']['x1']['0'],\n",
    "                                  fileDic[k]['EDA']['x2']['0'],\n",
    "                                  fileDic[k]['EMG']['x']['0'],\n",
    "                                  fileDic[k]['EMG']['x1']['0'],\n",
    "                                  fileDic[k]['EMG']['x2']['0'],\n",
    "                                  fileDic[k]['Resp']['x']['0'],\n",
    "                                  fileDic[k]['Resp']['x1']['0'],\n",
    "                                  fileDic[k]['Resp']['x2']['0'])))\n",
    "        if X == []:\n",
    "                X = x_patient\n",
    "        else:\n",
    "                X = np.vstack((X,x_patient))\n",
    "'''                                  fileDic[k]['ACC']['x']['0'],\n",
    "                                  fileDic[k]['ACC']['x']['1'],\n",
    "                                  fileDic[k]['ACC']['x']['2'], \n",
    "                                  fileDic[k]['ACC']['x1']['0'],\n",
    "                                  fileDic[k]['ACC']['x1']['1'],\n",
    "                                  fileDic[k]['ACC']['x1']['2'], \n",
    "                                  fileDic[k]['ACC']['x2']['0'],\n",
    "                                  fileDic[k]['ACC']['x2']['1'],\n",
    "                                  fileDic[k]['ACC']['x2']['2'], \n",
    "'''\n",
    "\n",
    "    return X, y"
   ]
  },
  {
   "cell_type": "code",
   "execution_count": 5,
   "metadata": {},
   "outputs": [
    {
     "name": "stderr",
     "output_type": "stream",
     "text": [
      "100%|██████████| 14/14 [00:00<00:00, 137.52it/s]\n"
     ]
    }
   ],
   "source": [
    "fileDic = readFiles()\n"
   ]
  },
  {
   "cell_type": "code",
   "execution_count": 64,
   "metadata": {},
   "outputs": [
    {
     "data": {
      "text/plain": [
       "(7034, 15)"
      ]
     },
     "execution_count": 64,
     "metadata": {},
     "output_type": "execute_result"
    }
   ],
   "source": [
    "X.shape"
   ]
  },
  {
   "cell_type": "code",
   "execution_count": 67,
   "metadata": {},
   "outputs": [
    {
     "data": {
      "text/plain": [
       "(7034, 1)"
      ]
     },
     "execution_count": 67,
     "metadata": {},
     "output_type": "execute_result"
    }
   ],
   "source": [
    "y.shape"
   ]
  },
  {
   "cell_type": "code",
   "execution_count": 174,
   "metadata": {},
   "outputs": [],
   "source": [
    "from numpy import argmax\n",
    "from keras.utils import to_categorical\n",
    "from sklearn.preprocessing import MinMaxScaler\n",
    "from sklearn.ensemble import AdaBoostClassifier\n",
    "from sklearn import svm"
   ]
  },
  {
   "cell_type": "code",
   "execution_count": 108,
   "metadata": {},
   "outputs": [],
   "source": [
    "y_encoded = to_categorical(y-1,num_classes=3,dtype='int32')"
   ]
  },
  {
   "cell_type": "code",
   "execution_count": 111,
   "metadata": {},
   "outputs": [],
   "source": [
    "scaler = MinMaxScaler()\n",
    "\n",
    "X_transformed = scaler.fit_transform(X)"
   ]
  },
  {
   "cell_type": "code",
   "execution_count": 112,
   "metadata": {},
   "outputs": [
    {
     "data": {
      "text/plain": [
       "array([[0.92875401, 0.07144002, 0.92875401, ..., 0.472567  , 0.61060596,\n",
       "        0.472567  ],\n",
       "       [0.91229477, 0.08556084, 0.91229477, ..., 0.4893423 , 0.59969977,\n",
       "        0.4893423 ],\n",
       "       [0.8799561 , 0.11455949, 0.8799561 , ..., 0.52824914, 0.57163324,\n",
       "        0.52824914],\n",
       "       ...,\n",
       "       [0.86065107, 0.13837348, 0.86065107, ..., 0.80448834, 0.26701961,\n",
       "        0.80448834],\n",
       "       [0.84373979, 0.15550646, 0.84373979, ..., 0.80221515, 0.270638  ,\n",
       "        0.80221515],\n",
       "       [0.83936842, 0.15922627, 0.83936842, ..., 0.77939649, 0.29824498,\n",
       "        0.77939649]])"
      ]
     },
     "execution_count": 112,
     "metadata": {},
     "output_type": "execute_result"
    }
   ],
   "source": [
    "X_transformed"
   ]
  },
  {
   "cell_type": "markdown",
   "metadata": {},
   "source": [
    "Implementing the Random Forest Classifier "
   ]
  },
  {
   "cell_type": "code",
   "execution_count": 151,
   "metadata": {},
   "outputs": [
    {
     "data": {
      "text/plain": [
       "RandomForestClassifier(bootstrap=True, class_weight=None, criterion='gini',\n",
       "            max_depth=2, max_features='auto', max_leaf_nodes=None,\n",
       "            min_impurity_decrease=0.0, min_impurity_split=None,\n",
       "            min_samples_leaf=1, min_samples_split=2,\n",
       "            min_weight_fraction_leaf=0.0, n_estimators=100, n_jobs=None,\n",
       "            oob_score=False, random_state=0, verbose=0, warm_start=False)"
      ]
     },
     "execution_count": 151,
     "metadata": {},
     "output_type": "execute_result"
    }
   ],
   "source": [
    "X_train, X_test, y_train, y_test= train_test_split(X_transformed, y_encoded, test_size = 0.3, random_state = 123)\n",
    "clf = RandomForestClassifier(n_estimators=45, max_depth=25, random_state=0)\n",
    "clf.fit(X_train, y_train)  \n",
    "RandomForestClassifier(bootstrap=True, class_weight=None, criterion='gini',\n",
    "            max_depth=2, max_features='auto', max_leaf_nodes=None,\n",
    "            min_impurity_decrease=0.0, min_impurity_split=None,\n",
    "            min_samples_leaf=1, min_samples_split=2,\n",
    "            min_weight_fraction_leaf=0.0, n_estimators=100, n_jobs=None,\n",
    "            oob_score=False, random_state=0, verbose=0, warm_start=False)"
   ]
  },
  {
   "cell_type": "code",
   "execution_count": 133,
   "metadata": {},
   "outputs": [],
   "source": [
    "prediction = clf.predict(X_test)"
   ]
  },
  {
   "cell_type": "code",
   "execution_count": 152,
   "metadata": {},
   "outputs": [
    {
     "data": {
      "text/plain": [
       "0.9384178114637612"
      ]
     },
     "execution_count": 152,
     "metadata": {},
     "output_type": "execute_result"
    }
   ],
   "source": [
    "clf.score(X_test, y_test, sample_weight=None)"
   ]
  },
  {
   "cell_type": "code",
   "execution_count": 130,
   "metadata": {},
   "outputs": [
    {
     "data": {
      "text/plain": [
       "0.935101847465656"
      ]
     },
     "execution_count": 130,
     "metadata": {},
     "output_type": "execute_result"
    }
   ],
   "source": [
    "accuracy_score(y_test,prediction)"
   ]
  },
  {
   "cell_type": "code",
   "execution_count": 138,
   "metadata": {},
   "outputs": [
    {
     "name": "stderr",
     "output_type": "stream",
     "text": [
      "C:\\Users\\abdollahinamin.a\\AppData\\Local\\Continuum\\anaconda3\\lib\\site-packages\\sklearn\\metrics\\classification.py:1135: UndefinedMetricWarning: F-score is ill-defined and being set to 0.0 in samples with no predicted labels.\n",
      "  'precision', 'predicted', average, warn_for)\n"
     ]
    },
    {
     "data": {
      "text/plain": [
       "0.9346281383230697"
      ]
     },
     "execution_count": 138,
     "metadata": {},
     "output_type": "execute_result"
    }
   ],
   "source": [
    "f1_score(y_test,prediction,average = 'samples')"
   ]
  },
  {
   "cell_type": "markdown",
   "metadata": {},
   "source": [
    "Implementing the AdaBoost Classifier"
   ]
  },
  {
   "cell_type": "code",
   "execution_count": 233,
   "metadata": {},
   "outputs": [
    {
     "name": "stderr",
     "output_type": "stream",
     "text": [
      "C:\\Users\\abdollahinamin.a\\AppData\\Local\\Continuum\\anaconda3\\lib\\site-packages\\sklearn\\utils\\validation.py:578: DataConversionWarning: A column-vector y was passed when a 1d array was expected. Please change the shape of y to (n_samples, ), for example using ravel().\n",
      "  y = column_or_1d(y, warn=True)\n"
     ]
    },
    {
     "data": {
      "text/plain": [
       "0.949786830885836"
      ]
     },
     "execution_count": 233,
     "metadata": {},
     "output_type": "execute_result"
    }
   ],
   "source": [
    "adaBclf = AdaBoostClassifier(clf,n_estimators=80,learning_rate=1,algorithm = 'SAMME')\n",
    "X_train_ada, X_test_ada, y_train_ada, y_test_ada = train_test_split(X_transformed, y, test_size = 0.3, random_state = 123)\n",
    "adaBclf.fit(X_train_ada, y_train_ada)\n",
    "adaBclf.score(X_test_ada, y_test_ada, sample_weight=None)"
   ]
  },
  {
   "cell_type": "code",
   "execution_count": 164,
   "metadata": {},
   "outputs": [],
   "source": [
    "ada_prediction = adaBclf.predict(X_test_ada)"
   ]
  },
  {
   "cell_type": "code",
   "execution_count": 172,
   "metadata": {},
   "outputs": [
    {
     "data": {
      "text/plain": [
       "0.9545239223117006"
      ]
     },
     "execution_count": 172,
     "metadata": {},
     "output_type": "execute_result"
    }
   ],
   "source": [
    "adaBclf.score(X_test_ada, y_test_ada, sample_weight=None)"
   ]
  },
  {
   "cell_type": "markdown",
   "metadata": {},
   "source": [
    "Implementing the SVM Classifier"
   ]
  },
  {
   "cell_type": "code",
   "execution_count": 234,
   "metadata": {},
   "outputs": [
    {
     "name": "stderr",
     "output_type": "stream",
     "text": [
      "C:\\Users\\abdollahinamin.a\\AppData\\Local\\Continuum\\anaconda3\\lib\\site-packages\\sklearn\\utils\\validation.py:578: DataConversionWarning: A column-vector y was passed when a 1d array was expected. Please change the shape of y to (n_samples, ), for example using ravel().\n",
      "  y = column_or_1d(y, warn=True)\n"
     ]
    },
    {
     "data": {
      "text/plain": [
       "0.9767882520132638"
      ]
     },
     "execution_count": 234,
     "metadata": {},
     "output_type": "execute_result"
    }
   ],
   "source": [
    "clfSVM = svm.SVC(C = 80, kernel = 'rbf',gamma = 10, decision_function_shape='ovo')\n",
    "clfSVM.fit(X_train_ada, y_train_ada)\n",
    "clfSVM.score(X_test_ada, y_test_ada, sample_weight=None)"
   ]
  }
 ],
 "metadata": {
  "kernelspec": {
   "display_name": "Python 3",
   "language": "python",
   "name": "python3"
  },
  "language_info": {
   "codemirror_mode": {
    "name": "ipython",
    "version": 3
   },
   "file_extension": ".py",
   "mimetype": "text/x-python",
   "name": "python",
   "nbconvert_exporter": "python",
   "pygments_lexer": "ipython3",
   "version": "3.6.5"
  }
 },
 "nbformat": 4,
 "nbformat_minor": 4
}
