{
 "cells": [
  {
   "cell_type": "code",
   "execution_count": null,
   "metadata": {},
   "outputs": [],
   "source": [
    "import tensorflow as tf\n",
    "import matplotlib.pyplot as plt\n",
    "import numpy as np\n",
    "import pandas as pd\n",
    "from sklearn import datasets\n",
    "import seaborn as sns\n",
    "%matplotlib inline\n",
    "\n",
    "df = pd.read_csv('bank_note_data.csv')\n",
    "sns.countplot(x = 'Class', data = df)\n",
    "sns.pairplot(data = df, hue = 'Class')"
   ]
  },
  {
   "cell_type": "markdown",
   "metadata": {},
   "source": [
    "Data Preparation"
   ]
  },
  {
   "cell_type": "code",
   "execution_count": null,
   "metadata": {},
   "outputs": [],
   "source": [
    "from sklearn.preprocessing import StandardScaler\n",
    "\n",
    "scaler = StandardScaler()\n",
    "scaler.fit(df.drop('Class', axis = 1))\n",
    "scaled_ver = scaler.transform(df.drop('Class', axis = 1))\n",
    "scaled_df = pd.DataFrame(data = scaled_ver, columns = df.columns.drop('Class'))\n"
   ]
  },
  {
   "cell_type": "markdown",
   "metadata": {},
   "source": [
    "Model development"
   ]
  },
  {
   "cell_type": "code",
   "execution_count": null,
   "metadata": {},
   "outputs": [],
   "source": [
    "from sklearn.model_selection import train_test_split\n",
    "from sklearn.metrics import classification_report, confusion_matrix\n",
    "\n",
    "X = scaled_df\n",
    "y = df['Class']\n",
    "X.as_matrix()\n",
    "y.as_matrix()\n",
    "X_train, X_test, y_train, y_test = train_test_split(X, y, test_size=0.3)\n",
    "\n",
    "feat_col = []\n",
    "for col in X.columns:\n",
    "    feat_col.append(tf.feature_column.numeric_column(col))\n",
    "feat_col  \n",
    "\n",
    "classifier = tf.estimator.DNNClassifier(hidden_units = [10,20,10], n_classes = 2, feature_columns=feat_col)\n",
    "input_func = tf.estimator.inputs.pandas_input_fn(x=X_train,y=y_train,batch_size=20,shuffle=True)\n",
    "classifier.train(input_fn = input_func, steps = 500)\n",
    "\n",
    "pred_fn = tf.estimator.inputs.pandas_input_fn(x = X_test, batch_size = len(X_test), shuffle = False)\n",
    "preds = list(classifier.predict(input_fn = pred_fn))\n",
    "final_preds = []\n",
    "for pred in preds:\n",
    "    final_preds.append(pred['class_ids'][0])\n",
    "    "
   ]
  }
 ],
 "metadata": {
  "kernelspec": {
   "display_name": "Python 3",
   "language": "python",
   "name": "python3"
  },
  "language_info": {
   "codemirror_mode": {
    "name": "ipython",
    "version": 3
   },
   "file_extension": ".py",
   "mimetype": "text/x-python",
   "name": "python",
   "nbconvert_exporter": "python",
   "pygments_lexer": "ipython3",
   "version": "3.6.5"
  }
 },
 "nbformat": 4,
 "nbformat_minor": 2
}
